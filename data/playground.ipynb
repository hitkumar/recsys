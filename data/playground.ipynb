{
  "cells": [
    {
      "cell_type": "code",
      "execution_count": null,
      "metadata": {},
      "outputs": [],
      "source": [
        "import numpy as np\n",
        "import pandas as pd"
      ]
    },
    {
      "cell_type": "code",
      "execution_count": null,
      "metadata": {},
      "outputs": [],
      "source": [
        "ratings = pd.read_csv(\"/tmp/amazon_ratings_Books.csv\", sep=\",\", names=['user_id', 'item_id', 'rating', 'timestamp'])"
      ]
    },
    {
      "cell_type": "code",
      "execution_count": null,
      "metadata": {
        "output": {
          "id": 1522488031801615,
          "loadingStatus": "loaded"
        }
      },
      "outputs": [],
      "source": [
        "ratings.head()"
      ]
    },
    {
      "cell_type": "code",
      "execution_count": null,
      "metadata": {
        "output": {
          "id": 972416924897868,
          "loadingStatus": "loaded"
        }
      },
      "outputs": [],
      "source": [
        "ratings.shape[0]"
      ]
    },
    {
      "cell_type": "code",
      "execution_count": null,
      "metadata": {},
      "outputs": [],
      "source": [
        "len(set(ratings['user_id'].values))"
      ]
    },
    {
      "cell_type": "code",
      "execution_count": null,
      "metadata": {},
      "outputs": [],
      "source": [
        "len(set(ratings['item_id'].values))"
      ]
    },
    {
      "cell_type": "code",
      "execution_count": null,
      "metadata": {},
      "outputs": [],
      "source": [
        "item_id_count = ratings['item_id'].value_counts().rename_axis('unique_values').reset_index(name='item_count')\n",
        "item_id_count.head()"
      ]
    },
    {
      "cell_type": "code",
      "execution_count": null,
      "metadata": {},
      "outputs": [],
      "source": [
        "user_id_count = ratings['user_id'].value_counts().rename_axis('unique_values').reset_index(name='user_count')\n",
        "user_id_count.head()"
      ]
    },
    {
      "cell_type": "code",
      "execution_count": null,
      "metadata": {},
      "outputs": [],
      "source": [
        "ratings = ratings.join(item_id_count.set_index('unique_values'), on='item_id')\n",
        "ratings.head()"
      ]
    },
    {
      "cell_type": "code",
      "execution_count": null,
      "metadata": {},
      "outputs": [],
      "source": [
        "ratings = ratings.join(user_id_count.set_index('unique_values'), on='user_id')\n",
        "ratings.head()"
      ]
    },
    {
      "cell_type": "code",
      "execution_count": null,
      "metadata": {},
      "outputs": [],
      "source": [
        "ratings = ratings[(ratings['item_count'] >= 5) & (ratings['user_count'] >= 5)]\n",
        "ratings.head()"
      ]
    },
    {
      "cell_type": "code",
      "execution_count": null,
      "metadata": {},
      "outputs": [],
      "source": [
        "len(ratings)"
      ]
    },
    {
      "cell_type": "code",
      "execution_count": null,
      "metadata": {},
      "outputs": [],
      "source": [
        "ratings.dtypes"
      ]
    },
    {
      "cell_type": "code",
      "execution_count": null,
      "metadata": {},
      "outputs": [],
      "source": [
        "ratings['user_id'] = pd.Categorical(ratings['user_id'])\n",
        "ratings['user_id'] = ratings['user_id'].cat.codes\n",
        "\n",
        "ratings['item_id'] = pd.Categorical(ratings['item_id'])\n",
        "ratings['item_id'] = ratings['item_id'].cat.codes\n",
        "ratings.head()"
      ]
    },
    {
      "cell_type": "code",
      "execution_count": null,
      "metadata": {},
      "outputs": [],
      "source": [
        "ratings.dtypes"
      ]
    },
    {
      "cell_type": "code",
      "execution_count": null,
      "metadata": {},
      "outputs": [],
      "source": [
        "len(set(ratings['user_id'].values)), len(set(ratings['item_id'].values))"
      ]
    },
    {
      "cell_type": "code",
      "execution_count": null,
      "metadata": {},
      "outputs": [],
      "source": [
        "ratings_group = ratings.sort_values(by=['timestamp']).groupby('user_id')\n",
        "ratings_group.head()"
      ]
    },
    {
      "cell_type": "code",
      "execution_count": null,
      "metadata": {},
      "outputs": [],
      "source": [
        "type(ratings_group)"
      ]
    },
    {
      "cell_type": "code",
      "execution_count": null,
      "metadata": {},
      "outputs": [],
      "source": [
        "ratings_group.item_id.apply(list).head()"
      ]
    },
    {
      "cell_type": "code",
      "execution_count": null,
      "metadata": {},
      "outputs": [],
      "source": [
        "seq_ratings_data = pd.DataFrame(\n",
        "    data ={\n",
        "        'user_id': list(ratings_group.groups.keys()),\n",
        "        'item_ids': list(ratings_group.item_id.apply(list)),\n",
        "        'ratings': list(ratings_group.rating.apply(list)),\n",
        "        'timestamps': list(ratings_group.timestamp.apply(list))\n",
        "    }\n",
        ")"
      ]
    },
    {
      "cell_type": "code",
      "execution_count": null,
      "metadata": {},
      "outputs": [],
      "source": [
        "seq_ratings_data.head()"
      ]
    },
    {
      "cell_type": "code",
      "execution_count": null,
      "metadata": {},
      "outputs": [],
      "source": [
        "len(seq_ratings_data)"
      ]
    },
    {
      "cell_type": "code",
      "execution_count": null,
      "metadata": {},
      "outputs": [],
      "source": [
        "seq_ratings_data = seq_ratings_data[seq_ratings_data['item_ids'].apply(len) >= 5]\n",
        "len(seq_ratings_data)"
      ]
    },
    {
      "cell_type": "code",
      "execution_count": null,
      "metadata": {},
      "outputs": [],
      "source": [
        "result = pd.DataFrame([[]])\n",
        "for col in ['item_ids']:\n",
        "    seq_ratings_len = seq_ratings_data[col].apply(len)\n",
        "    result[col + '_mean'] = seq_ratings_data[col].apply(len).mean()\n",
        "    result[col + '_std'] = seq_ratings_len.max()\n",
        "    result[col + '_min'] = seq_ratings_len.min()"
      ]
    },
    {
      "cell_type": "code",
      "execution_count": null,
      "metadata": {},
      "outputs": [],
      "source": [
        "result"
      ]
    },
    {
      "cell_type": "code",
      "execution_count": null,
      "metadata": {},
      "outputs": [],
      "source": [
        "def to_seq_data(\n",
        "        ratings_data: pd.DataFrame,\n",
        "    ) -> pd.DataFrame:\n",
        "\n",
        "        ratings_data_transformed = ratings_data\n",
        "\n",
        "        ratings_data_transformed.item_ids = ratings_data_transformed.item_ids.apply(\n",
        "            lambda x: \",\".join([str(i) for i in x])\n",
        "        )\n",
        "        ratings_data_transformed.ratings = ratings_data_transformed.ratings.apply(\n",
        "            lambda x: \",\".join([str(i) for i in x])\n",
        "        )\n",
        "        ratings_data_transformed.timestamps = ratings_data_transformed.timestamps.apply(\n",
        "            lambda x: \",\".join([str(i) for i in x])\n",
        "        )\n",
        "        ratings_data_transformed.rename(\n",
        "            columns={\n",
        "                \"item_ids\": \"sequence_item_ids\",\n",
        "                \"ratings\": \"sequence_ratings\",\n",
        "                \"timestamps\": \"sequence_timestamps\",\n",
        "            },\n",
        "            inplace=True,\n",
        "        )\n",
        "        return ratings_data_transformed"
      ]
    },
    {
      "cell_type": "code",
      "execution_count": null,
      "metadata": {},
      "outputs": [],
      "source": [
        "seq_ratings_data = to_seq_data(seq_ratings_data)"
      ]
    },
    {
      "cell_type": "code",
      "execution_count": null,
      "metadata": {},
      "outputs": [],
      "source": [
        "seq_ratings_data.head()"
      ]
    },
    {
      "cell_type": "code",
      "execution_count": null,
      "metadata": {},
      "outputs": [],
      "source": [
        "len(set(ratings['item_id'].values))"
      ]
    },
    {
      "cell_type": "code",
      "execution_count": null,
      "metadata": {},
      "outputs": [],
      "source": []
    }
  ],
  "metadata": {
    "fileHeader": "",
    "fileUid": "42c133b5-d800-4b82-9276-b18a8b726e2f",
    "isAdHoc": false,
    "kernelspec": {
      "display_name": "Python 3",
      "language": "python",
      "name": "bento_kernel_default"
    },
    "language_info": {
      "name": "plaintext"
    }
  }
}
